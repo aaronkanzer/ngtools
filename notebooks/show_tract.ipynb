{
 "cells": [
  {
   "cell_type": "code",
   "execution_count": 1,
   "metadata": {},
   "outputs": [],
   "source": [
    "import neuroglancer as ng\n",
    "from neuroglancer.server import global_server_args\n",
    "from ngtracts.tracts import TractSource\n",
    "import numpy as np\n"
   ]
  },
  {
   "cell_type": "code",
   "execution_count": 2,
   "metadata": {},
   "outputs": [],
   "source": [
    "# Orientation color coding following  Pajevic & Pierpaoli, MRM (1999)\n",
    "# We follow the mirror + rotational symmetry convention\n",
    "colormap_orient = \"\"\"\n",
    "vec3 colormapOrient(vec3 orient) {\n",
    "  vec3 result;\n",
    "  result.r = abs(orient[0]);\n",
    "  result.g = abs(orient[1]);\n",
    "  result.b = abs(orient[2]);\n",
    "  return clamp(result, 0.0, 1.0);\n",
    "}\n",
    "\"\"\"\n",
    "\n",
    "# Runing this in the skeleton shader uses orientation to color tracts\n",
    "orient_shader = colormap_orient + \"\"\"\n",
    "#uicontrol bool orient_color checkbox(default=true)\n",
    "void main() {\n",
    "  if (orient_color)\n",
    "    emitRGB(colormapOrient(orientation));\n",
    "  else\n",
    "  \temitDefault();\n",
    "}\n",
    "\"\"\"\n",
    "\n",
    "mri_shader = \"\"\"\n",
    "#uicontrol float brightness slider(min=0.0, max=1.0, default=0.5)\n",
    "void main() {\n",
    "    float x = clamp(toNormalized(getDataValue()) * brightness, 0.0, 1.0);\n",
    "    float angle = 2.0 * 3.1415926 * (4.0 / 3.0 + x);\n",
    "    float amp = x * (1.0 - x) / 2.0;\n",
    "    vec3 result;\n",
    "    float cosangle = cos(angle);\n",
    "    float sinangle = sin(angle);\n",
    "    result.r = -0.14861 * cosangle + 1.78277 * sinangle;\n",
    "    result.g = -0.29227 * cosangle + -0.90649 * sinangle;\n",
    "    result.b = 1.97294 * cosangle;\n",
    "    result = clamp(x + amp * result, 0.0, 1.0);\n",
    "    emitRGB(result);\n",
    "}\n",
    "\"\"\"\n",
    "\n",
    "hip_shader = \"\"\"\n",
    "#uicontrol float brightness slider(min=0.0, max=1.0, default=0.5)\n",
    "void main() {\n",
    "    float x = clamp(((toNormalized(getDataValue()) - 22000.)/3000.) * brightness, 0.0, 1.0);\n",
    "    float angle = 2.0 * 3.1415926 * (4.0 / 3.0 + x);\n",
    "    float amp = x * (1.0 - x) / 2.0;\n",
    "    vec3 result;\n",
    "    float cosangle = cos(angle);\n",
    "    float sinangle = sin(angle);\n",
    "    result.r = -0.14861 * cosangle + 1.78277 * sinangle;\n",
    "    result.g = -0.29227 * cosangle + -0.90649 * sinangle;\n",
    "    result.b = 1.97294 * cosangle;\n",
    "    result = clamp(x + amp * result, 0.0, 1.0);\n",
    "    emitRGB(result);\n",
    "}\n",
    "\"\"\"\n"
   ]
  },
  {
   "cell_type": "code",
   "execution_count": 3,
   "metadata": {},
   "outputs": [
    {
     "name": "stdout",
     "output_type": "stream",
     "text": [
      "http://127.0.0.1:9999/v/1/\n"
     ]
    }
   ],
   "source": [
    "global_server_args['bind_port'] = '9999'\n",
    "viewer = ng.Viewer(token='1')\n",
    "print(viewer.get_viewer_url())\n"
   ]
  },
  {
   "cell_type": "code",
   "execution_count": 4,
   "metadata": {},
   "outputs": [
    {
     "name": "stdout",
     "output_type": "stream",
     "text": [
      "[[ 1.19504683e-02 -9.25982665e-04 -1.16545466e-02  1.67168182e+02]\n",
      " [ 3.66131992e-04  1.62109663e-02 -4.92404220e-04 -1.88158447e+02]\n",
      " [ 1.22289949e-02  1.33860268e-03  1.08912990e-02  9.31016693e+01]\n",
      " [ 0.00000000e+00  0.00000000e+00  0.00000000e+00  1.00000000e+00]]\n"
     ]
    }
   ],
   "source": [
    "# figure out HiP-CT // MRI transform\n",
    "\n",
    "# HIP2MRI ras2ras (copy-pasted from the LTA)\n",
    "ras2ras = np.asarray([\n",
    "    [7.898524999618530e-01, -6.120176240801811e-02, -7.702938914299011e-01, 1.671681823730469e+02],\n",
    "    [2.419907413423061e-02, 1.071445226669312e+00, -3.254489228129387e-02, -1.881584472656250e+02],\n",
    "    [8.082613945007324e-01, 8.847340941429138e-02, 7.198479175567627e-01, 9.310166931152344e+01],\n",
    "    [0.000000000000000e+00, 0.000000000000000e+00, 0.000000000000000e+00, 1.000000000000000e+00],\n",
    "])\n",
    "\n",
    "# HiP-CT vox2ras\n",
    "# (0, 0, 0) = corner of first voxel\n",
    "# voxel size = 15.13 um\n",
    "vox2ras = np.asarray([\n",
    "    [15.13E-3, 0, 0, 0],\n",
    "    [0, 15.13E-3, 0, 0],\n",
    "    [0, 0, 15.13E-3, 0],\n",
    "    [0, 0, 0, 1]\n",
    "])\n",
    "\n",
    "# HIP2MRI vox2ras (vox to mm)\n",
    "hip2ras = ras2ras @ vox2ras\n",
    "\n",
    "print(hip2ras)\n"
   ]
  },
  {
   "cell_type": "code",
   "execution_count": 5,
   "metadata": {},
   "outputs": [
    {
     "name": "stdout",
     "output_type": "stream",
     "text": [
      "(129912, 3) (128912, 2) (129912, 3)\n",
      "(129912, 3) (128912, 2) (129912, 3)\n"
     ]
    }
   ],
   "source": [
    "TRK = \"https://dandiarchive.s3.amazonaws.com/blobs/d4a/c43/d4ac43bd-6896-4adf-a911-82edbea21f67\"\n",
    "NII = \"https://dandiarchive.s3.amazonaws.com/blobs/3de/a2d/3dea2d82-8af8-434f-b7a9-60a21d891985\"\n",
    "LTA = \"https://dandiarchive.s3.amazonaws.com/blobs/4a1/023/4a102340-906b-4ebb-bcf2-43b4655ad549\"\n",
    "HIP = \"https://dandiarchive.s3.amazonaws.com/zarr/5c37c233-222f-4e60-96e7-a7536e08ef61/\"\n",
    "\n",
    "hip_transform = ng.CoordinateSpaceTransform(\n",
    "    matrix=np.asarray(ras2ras[:-1], dtype='<f4'),\n",
    "    input_dimensions=ng.CoordinateSpace(\n",
    "        names=[\"z\", \"y\", \"x\"],\n",
    "        units=\"mm\",\n",
    "        scales=[15.13e-3]*3,\n",
    "    ),\n",
    "    output_dimensions=ng.CoordinateSpace(\n",
    "        names=[\"z\", \"y\", \"x\"],\n",
    "        units=\"mm\",\n",
    "        scales=[15.13e-3]*3,\n",
    "    )\n",
    ")\n",
    "\n",
    "with viewer.txn() as state:\n",
    "    state.layers.append(\n",
    "        name=\"mri\",\n",
    "        layer=ng.ImageLayer(\n",
    "            source=[\"nifti://\" + NII],\n",
    "            shader=mri_shader,\n",
    "        )\n",
    "    )\n",
    "    state.layers.append(\n",
    "        name=\"hip-ct\",\n",
    "        layer=ng.ImageLayer(\n",
    "            source=ng.LayerDataSource(\n",
    "              url=\"zarr://\" + HIP,\n",
    "              transform=hip_transform\n",
    "            ),\n",
    "            # shader=hip_shader,\n",
    "        )\n",
    "    )\n",
    "    state.layers.append(\n",
    "        name=\"tracts\",\n",
    "        layer=ng.SegmentationLayer(\n",
    "            source=[TractSource(TRK)],\n",
    "            skeleton_shader=orient_shader,\n",
    "            selected_alpha=0,\n",
    "            not_selected_alpha=0,\n",
    "            segments=[1],\n",
    "        ),\n",
    "    )\n"
   ]
  }
 ],
 "metadata": {
  "kernelspec": {
   "display_name": "ngtracts",
   "language": "python",
   "name": "python3"
  },
  "language_info": {
   "codemirror_mode": {
    "name": "ipython",
    "version": 3
   },
   "file_extension": ".py",
   "mimetype": "text/x-python",
   "name": "python",
   "nbconvert_exporter": "python",
   "pygments_lexer": "ipython3",
   "version": "3.8.18"
  }
 },
 "nbformat": 4,
 "nbformat_minor": 2
}
