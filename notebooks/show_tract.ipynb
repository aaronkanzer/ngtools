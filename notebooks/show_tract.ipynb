{
 "cells": [
  {
   "cell_type": "code",
   "execution_count": 1,
   "metadata": {},
   "outputs": [],
   "source": [
    "import neuroglancer\n",
    "import neuroglancer.webdriver\n",
    "from neuroglancer.server import global_server_args\n",
    "from ngtracts.tracts import TractSource\n"
   ]
  },
  {
   "cell_type": "code",
   "execution_count": 6,
   "metadata": {},
   "outputs": [],
   "source": [
    "# Orientation color coding following  Pajevic & Pierpaoli, MRM (1999)\n",
    "# We follow the mirror + rotational symmetry convention\n",
    "colormap_orient = \"\"\"\n",
    "vec3 colormapOrient(vec3 orient) {\n",
    "  vec3 result;\n",
    "  result.r = abs(orient[0]);\n",
    "  result.g = abs(orient[1]);\n",
    "  result.b = abs(orient[2]);\n",
    "  return clamp(result, 0.0, 1.0);\n",
    "}\n",
    "\"\"\"\n",
    "\n",
    "# Runing this in the skeleton shader uses orientation to color tracts\n",
    "orient_shader = colormap_orient + \"\"\"\n",
    "#uicontrol bool orient_color checkbox(default=false)\n",
    "void main() {\n",
    "  if (orient_color)\n",
    "    emitRGB(colormapOrient(orientation));\n",
    "  else\n",
    "  \temitDefault();\n",
    "}\n",
    "\"\"\"\n",
    "\n",
    "mri_shader = \"\"\"\n",
    "#uicontrol float brightness slider(min=0.0, max=1.0, default=0.5)\n",
    "void main() {\n",
    "    float x = clamp(toNormalized(getDataValue()) * brightness, 0.0, 1.0);\n",
    "    float angle = 2.0 * 3.1415926 * (4.0 / 3.0 + x);\n",
    "    float amp = x * (1.0 - x) / 2.0;\n",
    "    vec3 result;\n",
    "    float cosangle = cos(angle);\n",
    "    float sinangle = sin(angle);\n",
    "    result.r = -0.14861 * cosangle + 1.78277 * sinangle;\n",
    "    result.g = -0.29227 * cosangle + -0.90649 * sinangle;\n",
    "    result.b = 1.97294 * cosangle;\n",
    "    result = clamp(x + amp * result, 0.0, 1.0);\n",
    "    emitRGB(result);\n",
    "}\n",
    "\"\"\"\n"
   ]
  },
  {
   "cell_type": "code",
   "execution_count": 3,
   "metadata": {},
   "outputs": [
    {
     "name": "stdout",
     "output_type": "stream",
     "text": [
      "http://127.0.0.1:9999/v/1/\n"
     ]
    }
   ],
   "source": [
    "\n",
    "global_server_args['bind_port'] = '9999'\n",
    "viewer = neuroglancer.Viewer(token='1')\n",
    "print(viewer.get_viewer_url())\n"
   ]
  },
  {
   "cell_type": "code",
   "execution_count": 7,
   "metadata": {},
   "outputs": [],
   "source": [
    "TRK = \"https://dandiarchive.s3.amazonaws.com/blobs/d4a/c43/d4ac43bd-6896-4adf-a911-82edbea21f67\"\n",
    "NII = \"https://dandiarchive.s3.amazonaws.com/blobs/3de/a2d/3dea2d82-8af8-434f-b7a9-60a21d891985\"\n",
    "\n",
    "with viewer.txn() as state:\n",
    "    state.layers.append(\n",
    "        name=\"mri\",\n",
    "        layer=neuroglancer.ImageLayer(\n",
    "            source=[\n",
    "                \"nifti://\" + NII\n",
    "            ],\n",
    "            shader=mri_shader,\n",
    "        )\n",
    "    )\n",
    "    state.layers.append(\n",
    "        name=\"tracts\",\n",
    "        layer=neuroglancer.SegmentationLayer(\n",
    "            source=[\n",
    "                TractSource(TRK),\n",
    "            ],\n",
    "            skeleton_shader=orient_shader,\n",
    "            selected_alpha=0,\n",
    "            not_selected_alpha=0,\n",
    "            segments=[1],\n",
    "        ),\n",
    "    )\n"
   ]
  }
 ],
 "metadata": {
  "kernelspec": {
   "display_name": "ngtracts",
   "language": "python",
   "name": "python3"
  },
  "language_info": {
   "codemirror_mode": {
    "name": "ipython",
    "version": 3
   },
   "file_extension": ".py",
   "mimetype": "text/x-python",
   "name": "python",
   "nbconvert_exporter": "python",
   "pygments_lexer": "ipython3",
   "version": "3.8.18"
  }
 },
 "nbformat": 4,
 "nbformat_minor": 2
}
